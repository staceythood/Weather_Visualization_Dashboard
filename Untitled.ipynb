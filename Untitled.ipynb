{
 "cells": [
  {
   "cell_type": "code",
   "execution_count": 1,
   "metadata": {},
   "outputs": [],
   "source": [
    "import pandas as pd"
   ]
  },
  {
   "cell_type": "code",
   "execution_count": 5,
   "metadata": {},
   "outputs": [
    {
     "data": {
      "text/html": [
       "<div>\n",
       "<style scoped>\n",
       "    .dataframe tbody tr th:only-of-type {\n",
       "        vertical-align: middle;\n",
       "    }\n",
       "\n",
       "    .dataframe tbody tr th {\n",
       "        vertical-align: top;\n",
       "    }\n",
       "\n",
       "    .dataframe thead th {\n",
       "        text-align: right;\n",
       "    }\n",
       "</style>\n",
       "<table border=\"1\" class=\"dataframe\">\n",
       "  <thead>\n",
       "    <tr style=\"text-align: right;\">\n",
       "      <th></th>\n",
       "      <th>City</th>\n",
       "      <th>Cloudiness</th>\n",
       "      <th>Country</th>\n",
       "      <th>Date</th>\n",
       "      <th>Humidity</th>\n",
       "      <th>Lat</th>\n",
       "      <th>Lng</th>\n",
       "      <th>Max Temp</th>\n",
       "      <th>Wind Speed</th>\n",
       "    </tr>\n",
       "  </thead>\n",
       "  <tbody>\n",
       "    <tr>\n",
       "      <th>0</th>\n",
       "      <td>grenaa</td>\n",
       "      <td>100.0</td>\n",
       "      <td>DK</td>\n",
       "      <td>1.563480e+09</td>\n",
       "      <td>68.0</td>\n",
       "      <td>56.42</td>\n",
       "      <td>10.88</td>\n",
       "      <td>68.00</td>\n",
       "      <td>4.70</td>\n",
       "    </tr>\n",
       "    <tr>\n",
       "      <th>1</th>\n",
       "      <td>billings</td>\n",
       "      <td>20.0</td>\n",
       "      <td>US</td>\n",
       "      <td>1.563480e+09</td>\n",
       "      <td>30.0</td>\n",
       "      <td>45.79</td>\n",
       "      <td>-108.50</td>\n",
       "      <td>84.00</td>\n",
       "      <td>8.05</td>\n",
       "    </tr>\n",
       "    <tr>\n",
       "      <th>2</th>\n",
       "      <td>new norfolk</td>\n",
       "      <td>20.0</td>\n",
       "      <td>AU</td>\n",
       "      <td>1.563480e+09</td>\n",
       "      <td>65.0</td>\n",
       "      <td>-42.78</td>\n",
       "      <td>147.06</td>\n",
       "      <td>55.99</td>\n",
       "      <td>17.22</td>\n",
       "    </tr>\n",
       "    <tr>\n",
       "      <th>3</th>\n",
       "      <td>tiksi</td>\n",
       "      <td>94.0</td>\n",
       "      <td>RU</td>\n",
       "      <td>1.563480e+09</td>\n",
       "      <td>84.0</td>\n",
       "      <td>71.64</td>\n",
       "      <td>128.87</td>\n",
       "      <td>37.49</td>\n",
       "      <td>10.67</td>\n",
       "    </tr>\n",
       "    <tr>\n",
       "      <th>4</th>\n",
       "      <td>port hedland</td>\n",
       "      <td>98.0</td>\n",
       "      <td>AU</td>\n",
       "      <td>1.563480e+09</td>\n",
       "      <td>58.0</td>\n",
       "      <td>-20.31</td>\n",
       "      <td>118.58</td>\n",
       "      <td>55.40</td>\n",
       "      <td>6.93</td>\n",
       "    </tr>\n",
       "  </tbody>\n",
       "</table>\n",
       "</div>"
      ],
      "text/plain": [
       "           City  Cloudiness Country          Date  Humidity    Lat     Lng  \\\n",
       "0        grenaa       100.0      DK  1.563480e+09      68.0  56.42   10.88   \n",
       "1      billings        20.0      US  1.563480e+09      30.0  45.79 -108.50   \n",
       "2   new norfolk        20.0      AU  1.563480e+09      65.0 -42.78  147.06   \n",
       "3         tiksi        94.0      RU  1.563480e+09      84.0  71.64  128.87   \n",
       "4  port hedland        98.0      AU  1.563480e+09      58.0 -20.31  118.58   \n",
       "\n",
       "   Max Temp  Wind Speed  \n",
       "0     68.00        4.70  \n",
       "1     84.00        8.05  \n",
       "2     55.99       17.22  \n",
       "3     37.49       10.67  \n",
       "4     55.40        6.93  "
      ]
     },
     "execution_count": 5,
     "metadata": {},
     "output_type": "execute_result"
    }
   ],
   "source": [
    "data_df = pd.read_csv(\"city_weather_data.csv\", encoding=\"utf-8\")\n",
    "data_df.head()"
   ]
  },
  {
   "cell_type": "code",
   "execution_count": 10,
   "metadata": {},
   "outputs": [],
   "source": [
    "data_df.to_html(\"data.html\")\n"
   ]
  },
  {
   "cell_type": "code",
   "execution_count": null,
   "metadata": {},
   "outputs": [],
   "source": []
  }
 ],
 "metadata": {
  "kernelspec": {
   "display_name": "Python 3",
   "language": "python",
   "name": "python3"
  },
  "language_info": {
   "codemirror_mode": {
    "name": "ipython",
    "version": 3
   },
   "file_extension": ".py",
   "mimetype": "text/x-python",
   "name": "python",
   "nbconvert_exporter": "python",
   "pygments_lexer": "ipython3",
   "version": "3.7.3"
  }
 },
 "nbformat": 4,
 "nbformat_minor": 2
}
